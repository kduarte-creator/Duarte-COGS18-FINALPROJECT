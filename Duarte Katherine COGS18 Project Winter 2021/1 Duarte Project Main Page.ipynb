{
 "cells": [
  {
   "cell_type": "markdown",
   "metadata": {},
   "source": [
    "# Description of Project \n",
    "\n",
    "The purpose of the series of codes below is to record and recall information for a dog day-care facility. Information concerning the facility's capacity, the current roster of the dogs in care, and the directory of all the customers can be inputted and accessed here.   \n",
    "\n",
    "The overall goal is to improve efficiency and accuracy in the facility's recording keeping so more time can be focused on tending to the dogs."
   ]
  },
  {
   "cell_type": "code",
   "execution_count": 7,
   "metadata": {},
   "outputs": [],
   "source": [
    "import Dogs"
   ]
  },
  {
   "cell_type": "markdown",
   "metadata": {},
   "source": [
    "# Current Roster \n",
    "\n",
    "Here is a dictionary called current_roster of information concerning the dogs that are currently in the facility's care so that the facility's employees are able to use the functions below to easily access information about the dogs they are caring for."
   ]
  },
  {
   "cell_type": "code",
   "execution_count": 8,
   "metadata": {},
   "outputs": [],
   "source": [
    "current_roster = { 'Loki':['Chihuahua', 6, 'small'], \n",
    "                  'Fiona':['Chihuahua', 12, 'small'],\n",
    "                  'Peaches':['Pitbull', 3, 'large'], \n",
    "                  'Booger':['French Bulldog', 2, 'medium'],\n",
    "                  'Teddy':['Maltese', 1, 'small']}"
   ]
  },
  {
   "cell_type": "markdown",
   "metadata": {},
   "source": [
    "# Functions and their purpose\n",
    "\n",
    "## Sorting Dogs \n",
    "In order to ensure all the dogs enjoy their time at the facility, it is best to group them with others that are within their age range. This function helps determine the age category by creating a list with the category of age each dog in the roster belongs to so the employee can better place them with dogs their age.\n",
    "\n",
    "## Capacity Counter\n",
    "The purpose of the function capacity_counter is to help the employees keep track of how many dogs are being taken care of. Instead of manually counting the dogs every time they want to know the capacity, the function will return the status of the facility's capacity."
   ]
  },
  {
   "cell_type": "code",
   "execution_count": 25,
   "metadata": {},
   "outputs": [
    {
     "name": "stdout",
     "output_type": "stream",
     "text": [
      "\u001b[1m============================= test session starts ==============================\u001b[0m\n",
      "platform linux -- Python 3.7.6, pytest-6.1.2, py-1.9.0, pluggy-0.13.1\n",
      "rootdir: /home/kduarte/1 Duarte Project Draft\n",
      "collected 2 items                                                              \u001b[0m\n",
      "\n",
      "test_functions.py \u001b[32m.\u001b[0m\u001b[32m.\u001b[0m\u001b[32m                                                     [100%]\u001b[0m\n",
      "\n",
      "\u001b[32m============================== \u001b[32m\u001b[1m2 passed\u001b[0m\u001b[32m in 0.04s\u001b[0m\u001b[32m ===============================\u001b[0m\n"
     ]
    }
   ],
   "source": [
    "#CODE TESTS \n",
    "!pytest test_functions.py"
   ]
  },
  {
   "cell_type": "markdown",
   "metadata": {},
   "source": [
    "# Overall Benefits\n",
    "With this convenient system, employees of the dog-care facility are able to easily access information about the dogs in their care that will help them make the experience more enjoyable for the dogs as their stay will run more smoothly. \n",
    "\n",
    "\n",
    "# My Efforts \n",
    "As a first time coder keeping up with this class was really daunting. After dedicating a bunch of time learning new concepts, a lot of practice, and long days in front of a computer, I have been able to learn a lot. Although it was very difficult, I am glad I took this course that made me push pass the boundaries of what I am comfortable doing. With that said, although it is not much, this project took me several hours to plan and execute, along with lots of vists to office hours to work out all the bugs, and I have put a lot of effort towards making this a cohesive working colletcion of code.  "
   ]
  },
  {
   "cell_type": "code",
   "execution_count": null,
   "metadata": {},
   "outputs": [],
   "source": []
  }
 ],
 "metadata": {
  "kernelspec": {
   "display_name": "Python 3 (clean)",
   "language": "python",
   "name": "python3_clean"
  },
  "language_info": {
   "codemirror_mode": {
    "name": "ipython",
    "version": 3
   },
   "file_extension": ".py",
   "mimetype": "text/x-python",
   "name": "python",
   "nbconvert_exporter": "python",
   "pygments_lexer": "ipython3",
   "version": "3.7.6"
  }
 },
 "nbformat": 4,
 "nbformat_minor": 4
}
